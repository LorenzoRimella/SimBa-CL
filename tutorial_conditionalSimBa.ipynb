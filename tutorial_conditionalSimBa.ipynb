{
 "cells": [
  {
   "cell_type": "code",
   "execution_count": 1,
   "metadata": {},
   "outputs": [
    {
     "name": "stderr",
     "output_type": "stream",
     "text": [
      "2025-01-03 08:25:56.577609: I tensorflow/core/util/port.cc:111] oneDNN custom operations are on. You may see slightly different numerical results due to floating-point round-off errors from different computation orders. To turn them off, set the environment variable `TF_ENABLE_ONEDNN_OPTS=0`.\n",
      "2025-01-03 08:25:57.817077: E tensorflow/compiler/xla/stream_executor/cuda/cuda_dnn.cc:9342] Unable to register cuDNN factory: Attempting to register factory for plugin cuDNN when one has already been registered\n",
      "2025-01-03 08:25:57.817104: E tensorflow/compiler/xla/stream_executor/cuda/cuda_fft.cc:609] Unable to register cuFFT factory: Attempting to register factory for plugin cuFFT when one has already been registered\n",
      "2025-01-03 08:25:57.826673: E tensorflow/compiler/xla/stream_executor/cuda/cuda_blas.cc:1518] Unable to register cuBLAS factory: Attempting to register factory for plugin cuBLAS when one has already been registered\n",
      "2025-01-03 08:25:58.240584: I tensorflow/core/platform/cpu_feature_guard.cc:182] This TensorFlow binary is optimized to use available CPU instructions in performance-critical operations.\n",
      "To enable the following instructions: AVX2 AVX_VNNI FMA, in other operations, rebuild TensorFlow with the appropriate compiler flags.\n",
      "2025-01-03 08:26:00.118464: W tensorflow/compiler/tf2tensorrt/utils/py_utils.cc:38] TF-TRT Warning: Could not find TensorRT\n"
     ]
    }
   ],
   "source": [
    "import numpy as np\n",
    "import tensorflow as tf\n",
    "import tensorflow_probability as tfp\n",
    "\n",
    "from tensorflow.keras import backend as K"
   ]
  },
  {
   "cell_type": "code",
   "execution_count": 2,
   "metadata": {},
   "outputs": [],
   "source": [
    "import sys\n",
    "sys.path.append('scripts/')\n",
    "from simulation_based_likelihood import *\n",
    "from synthetic_data import *\n",
    "from simba_gradient_univariate import *"
   ]
  },
  {
   "cell_type": "code",
   "execution_count": 3,
   "metadata": {},
   "outputs": [],
   "source": [
    "import numpy as np\n",
    "import matplotlib.pyplot as plt\n",
    "from matplotlib.patches import Ellipse\n",
    "import matplotlib.transforms as transforms"
   ]
  },
  {
   "cell_type": "code",
   "execution_count": 4,
   "metadata": {},
   "outputs": [],
   "source": [
    "# Set font properties for ticks\n",
    "plt.rcParams['xtick.labelsize'] = 12  # Font size of x-axis tick labels\n",
    "plt.rcParams['ytick.labelsize'] = 12  # Font size of y-axis tick labels\n",
    "\n",
    "# Set font properties for labels\n",
    "plt.rcParams['axes.labelsize'] = 15  # Font size of axis labels\n",
    "\n",
    "# Set font properties for title\n",
    "plt.rcParams['axes.titlesize'] = 15  # Font size of title"
   ]
  },
  {
   "cell_type": "code",
   "execution_count": 5,
   "metadata": {},
   "outputs": [],
   "source": [
    "import pylab \n",
    "import scipy.stats as stats\n",
    "\n",
    "from scipy import stats\n",
    "\n",
    "chi2 = stats.chi2\n",
    "gaussian = stats.norm"
   ]
  },
  {
   "cell_type": "code",
   "execution_count": 6,
   "metadata": {},
   "outputs": [],
   "source": [
    "covariates_n = 2\n",
    "\n",
    "M = 2\n",
    "\n",
    "T = 100\n",
    "\n",
    "parallel_simulations = 500\n",
    "\n",
    "tf.random.set_seed((T))\n",
    "np.random.seed((T))"
   ]
  },
  {
   "cell_type": "code",
   "execution_count": 7,
   "metadata": {},
   "outputs": [
    {
     "name": "stderr",
     "output_type": "stream",
     "text": [
      "2025-01-03 08:26:03.763606: I tensorflow/compiler/xla/stream_executor/cuda/cuda_gpu_executor.cc:880] could not open file to read NUMA node: /sys/bus/pci/devices/0000:01:00.0/numa_node\n",
      "Your kernel may have been built without NUMA support.\n",
      "2025-01-03 08:26:04.719456: I tensorflow/compiler/xla/stream_executor/cuda/cuda_gpu_executor.cc:880] could not open file to read NUMA node: /sys/bus/pci/devices/0000:01:00.0/numa_node\n",
      "Your kernel may have been built without NUMA support.\n",
      "2025-01-03 08:26:04.719617: I tensorflow/compiler/xla/stream_executor/cuda/cuda_gpu_executor.cc:880] could not open file to read NUMA node: /sys/bus/pci/devices/0000:01:00.0/numa_node\n",
      "Your kernel may have been built without NUMA support.\n",
      "2025-01-03 08:26:04.725920: I tensorflow/compiler/xla/stream_executor/cuda/cuda_gpu_executor.cc:880] could not open file to read NUMA node: /sys/bus/pci/devices/0000:01:00.0/numa_node\n",
      "Your kernel may have been built without NUMA support.\n",
      "2025-01-03 08:26:04.725981: I tensorflow/compiler/xla/stream_executor/cuda/cuda_gpu_executor.cc:880] could not open file to read NUMA node: /sys/bus/pci/devices/0000:01:00.0/numa_node\n",
      "Your kernel may have been built without NUMA support.\n",
      "2025-01-03 08:26:04.726006: I tensorflow/compiler/xla/stream_executor/cuda/cuda_gpu_executor.cc:880] could not open file to read NUMA node: /sys/bus/pci/devices/0000:01:00.0/numa_node\n",
      "Your kernel may have been built without NUMA support.\n",
      "2025-01-03 08:26:04.966661: I tensorflow/compiler/xla/stream_executor/cuda/cuda_gpu_executor.cc:880] could not open file to read NUMA node: /sys/bus/pci/devices/0000:01:00.0/numa_node\n",
      "Your kernel may have been built without NUMA support.\n",
      "2025-01-03 08:26:04.966721: I tensorflow/compiler/xla/stream_executor/cuda/cuda_gpu_executor.cc:880] could not open file to read NUMA node: /sys/bus/pci/devices/0000:01:00.0/numa_node\n",
      "Your kernel may have been built without NUMA support.\n",
      "2025-01-03 08:26:04.966727: I tensorflow/core/common_runtime/gpu/gpu_device.cc:1977] Could not identify NUMA node of platform GPU id 0, defaulting to 0.  Your kernel may not have been built with NUMA support.\n",
      "2025-01-03 08:26:04.966754: I tensorflow/compiler/xla/stream_executor/cuda/cuda_gpu_executor.cc:880] could not open file to read NUMA node: /sys/bus/pci/devices/0000:01:00.0/numa_node\n",
      "Your kernel may have been built without NUMA support.\n",
      "2025-01-03 08:26:04.966775: I tensorflow/core/common_runtime/gpu/gpu_device.cc:1886] Created device /job:localhost/replica:0/task:0/device:GPU:0 with 5520 MB memory:  -> device: 0, name: NVIDIA GeForce RTX 4070 Laptop GPU, pci bus id: 0000:01:00.0, compute capability: 8.9\n",
      "2025-01-03 08:26:05.499830: I tensorflow/tsl/platform/default/subprocess.cc:304] Start cannot spawn child process: No such file or directory\n"
     ]
    },
    {
     "name": "stdout",
     "output_type": "stream",
     "text": [
      "N=100\n",
      "eps=1e-05\n"
     ]
    },
    {
     "name": "stderr",
     "output_type": "stream",
     "text": [
      "2025-01-03 08:26:07.522311: I tensorflow/compiler/xla/service/service.cc:168] XLA service 0x424676a0 initialized for platform CUDA (this does not guarantee that XLA will be used). Devices:\n",
      "2025-01-03 08:26:07.522353: I tensorflow/compiler/xla/service/service.cc:176]   StreamExecutor device (0): NVIDIA GeForce RTX 4070 Laptop GPU, Compute Capability 8.9\n",
      "2025-01-03 08:26:07.535990: I tensorflow/compiler/mlir/tensorflow/utils/dump_mlir_util.cc:269] disabling MLIR crash reproducer, set env var `MLIR_CRASH_REPRODUCER_DIRECTORY` to enable.\n",
      "2025-01-03 08:26:07.780343: I tensorflow/compiler/xla/stream_executor/cuda/cuda_dnn.cc:442] Loaded cuDNN version 8907\n",
      "2025-01-03 08:26:08.768761: I ./tensorflow/compiler/jit/device_compiler.h:186] Compiled cluster using XLA!  This line is logged at most once for the lifetime of the process.\n"
     ]
    },
    {
     "name": "stdout",
     "output_type": "stream",
     "text": [
      "eps=0.001\n",
      "eps=0.1\n",
      "N=1000\n",
      "eps=1e-05\n",
      "eps=0.001\n",
      "eps=0.1\n",
      "N=2000\n",
      "eps=1e-05\n",
      "eps=0.001\n",
      "eps=0.1\n"
     ]
    }
   ],
   "source": [
    "seed_filter_N = tfp.random.split_seed( T, n=3, salt='filter_N')\n",
    "\n",
    "N_list       = [100, 1000, 2000]\n",
    "epsilon_list = [0.00001, 0.001, 0.1] \n",
    "q_list       = [[0.2, 0.1], [0.6, 0.4], [0.9, 0.9]]\n",
    "\n",
    "loglike_simba_list = []\n",
    "loglike_condsimba_list = []\n",
    "filter_performance_simba_list = []\n",
    "filter_performance_condsimba_list = []\n",
    "\n",
    "for n in range(3):\n",
    "\n",
    "\tseed_filter_eps = tfp.random.split_seed( seed_filter_N[n], n=3, salt='filter_eps')\n",
    "\tprint(\"N=\"+str(N_list[n]))\n",
    "\n",
    "\tfor e in range(3):\n",
    "\n",
    "\t\tseed_filter_q = tfp.random.split_seed( seed_filter_eps[e], n=3, salt='filter_q')\n",
    "\t\tprint(\"eps=\"+str(epsilon_list[e]))\n",
    "\n",
    "\t\tfor qi in range(3):\n",
    "\t\t\t\n",
    "\t\t\tseed_filter = tfp.random.split_seed( seed_filter_q[qi], n=101, salt='filter_q')\n",
    "\n",
    "\t\t\tN = N_list[n]\n",
    "\t\t\tW_tensor = tf.stack((tf.ones(N), tfp.distributions.Normal(loc = 0.0, scale = 1.0).sample(N)), axis = -1)\n",
    "\n",
    "\t\t\tinput_0      = tuple([W_tensor])\n",
    "\t\t\tinput_kernel = tuple([W_tensor])\n",
    "\n",
    "\t\t\tmodel = compartmental_model(N, input_0, input_kernel, SIS_initial, SIS_transition)\n",
    "\n",
    "\t\t\tinitial_infection_rate = 0.01\n",
    "\t\t\tbeta_0      = tf.convert_to_tensor( [-np.log((1/initial_infection_rate)-1), +0], dtype = tf.float32 )\n",
    "\t\t\tbeta_lambda = tf.convert_to_tensor( [-1,           +2],      dtype = tf.float32 )  \n",
    "\t\t\tbeta_gamma  = tf.convert_to_tensor( [-1,           -1],      dtype = tf.float32 )  \n",
    "\t\t\tepsilon     = tf.convert_to_tensor( [epsilon_list[e]],                  dtype = tf.float32 )  \n",
    "\n",
    "\t\t\tparameters_0 = tuple([beta_0])\n",
    "\n",
    "\t\t\tq_0      = tf.convert_to_tensor([0.0, 0.0], dtype = tf.float32)   \n",
    "\t\t\tq_static = tf.convert_to_tensor(q_list[qi], dtype = tf.float32)\n",
    "\n",
    "\t\t\tq_0_expanded      = tf.expand_dims(tf.expand_dims(q_0, axis = 0), axis = 0)\n",
    "\t\t\tq_static_expanded = tf.expand_dims(tf.expand_dims(q_static, axis = 0), axis = 0)\n",
    "\n",
    "\t\t\tparameters_emission = tuple([q_static])\n",
    "\n",
    "\t\t\tparameters_kernel = beta_lambda, beta_gamma, epsilon\n",
    "\t\t\tq_dynamic = tf.concat((q_0_expanded*tf.ones((1, N, M)), q_static_expanded*tf.ones((T, N, M))), axis =0)\n",
    "\n",
    "\t\t\tx, y = sim(model, parameters_0, parameters_kernel, q_dynamic, T, seed_filter[0])\n",
    "\n",
    "\t\t\tsimulation_likelihood_model = simulation_likelihood(parallel_simulations, N, input_0, input_kernel, \n",
    "\t\t\t\t\t\t\t\t\tSIS_initial_grad, SIS_transition_grad, SIS_emission_grad)\n",
    "\n",
    "\t\t\tloglike_simba = []\n",
    "\t\t\tloglike_condsimba = []\n",
    "\n",
    "\t\t\tfilter_performance_simba = []\n",
    "\t\t\tfilter_performance_condsimba = []\n",
    "\n",
    "\t\t\tfor i in range(100):\n",
    "\t\t\t\tseed_filter_split = tfp.random.split_seed( seed_filter[i], n=2, salt='filter_split')\n",
    "\n",
    "\t\t\t\tout_simba     = run_simba_full(       simulation_likelihood_model, parameters_0, parameters_kernel, parameters_emission, y, seed_filter_split[0])\n",
    "\t\t\t\tout_condsimba = run_simba_full_filter(simulation_likelihood_model, parameters_0, parameters_kernel, parameters_emission, y, seed_filter_split[1])\n",
    "\n",
    "\t\t\t\tfilter_simba     = tf.reduce_mean(out_simba[0], axis = 1)\n",
    "\t\t\t\tfilter_condsimba = tf.reduce_mean(out_condsimba[0], axis = 1)\n",
    "\n",
    "\t\t\t\tloglike_simba.append(tf.reduce_sum(out_simba[1]))\n",
    "\t\t\t\tloglike_condsimba.append(tf.reduce_sum(out_condsimba[1]))\n",
    "\n",
    "\t\t\t\tfilter_performance_simba.append(tf.reduce_mean(tf.reduce_mean(tf.reduce_sum(x[1:,:,:]*filter_simba, axis = -1), axis =-1)))\n",
    "\t\t\t\tfilter_performance_condsimba.append(tf.reduce_mean(tf.reduce_mean(tf.reduce_sum(x[1:,:,:]*filter_condsimba, axis = -1), axis =-1)))\n",
    "\n",
    "\t\t\tloglike_simba = np.stack(loglike_simba)\n",
    "\t\t\tloglike_condsimba = np.stack(loglike_condsimba)\n",
    "\n",
    "\t\t\tfilter_performance_simba =np.stack(filter_performance_simba)\n",
    "\t\t\tfilter_performance_condsimba =np.stack(filter_performance_condsimba)\n",
    "\n",
    "\t\t\tloglike_simba_list.append(loglike_simba)\n",
    "\t\t\tloglike_condsimba_list.append(loglike_condsimba)\n",
    "\t\t\tfilter_performance_simba_list.append(filter_performance_simba)\n",
    "\t\t\tfilter_performance_condsimba_list.append(filter_performance_condsimba)"
   ]
  },
  {
   "cell_type": "markdown",
   "metadata": {},
   "source": [
    "We have some nans so rerun the for the corresponding scenario"
   ]
  },
  {
   "cell_type": "code",
   "execution_count": 9,
   "metadata": {},
   "outputs": [
    {
     "data": {
      "text/plain": [
       "array([nan, nan, nan, nan, nan, nan, nan, nan, nan, nan, nan, nan, nan,\n",
       "       nan, nan, nan, nan, nan, nan, nan, nan, nan, nan, nan, nan, nan,\n",
       "       nan, nan, nan, nan, nan, nan, nan, nan, nan, nan, nan, nan, nan,\n",
       "       nan, nan, nan, nan, nan, nan, nan, nan, nan, nan, nan, nan, nan,\n",
       "       nan, nan, nan, nan, nan, nan, nan, nan, nan, nan, nan, nan, nan,\n",
       "       nan, nan, nan, nan, nan, nan, nan, nan, nan, nan, nan, nan, nan,\n",
       "       nan, nan, nan, nan, nan, nan, nan, nan, nan, nan, nan, nan, nan,\n",
       "       nan, nan, nan, nan, nan, nan, nan, nan, nan], dtype=float32)"
      ]
     },
     "execution_count": 9,
     "metadata": {},
     "output_type": "execute_result"
    }
   ],
   "source": [
    "loglike_simba_list[1]"
   ]
  },
  {
   "cell_type": "code",
   "execution_count": 10,
   "metadata": {},
   "outputs": [],
   "source": [
    "N_list       = [100, 1000, 2000]\n",
    "epsilon_list = [0.00001, 0.001, 0.1] \n",
    "q_list       = [[0.2, 0.1], [0.6, 0.4], [0.9, 0.9]]\n",
    "\n",
    "n = 0\t\n",
    "seed_filter_eps = tfp.random.split_seed( seed_filter_N[n]+1, n=3, salt='filter_eps')\n",
    "\n",
    "e = 0\n",
    "seed_filter_q = tfp.random.split_seed( seed_filter_eps[e], n=3, salt='filter_q')\n",
    "\n",
    "qi =1\n",
    "seed_filter = tfp.random.split_seed( seed_filter_q[qi], n=101, salt='filter_q')\n",
    "\n",
    "N = N_list[n]\n",
    "W_tensor = tf.stack((tf.ones(N), tfp.distributions.Normal(loc = 0.0, scale = 1.0).sample(N)), axis = -1)\n",
    "\n",
    "input_0      = tuple([W_tensor])\n",
    "input_kernel = tuple([W_tensor])\n",
    "\n",
    "model = compartmental_model(N, input_0, input_kernel, SIS_initial, SIS_transition)\n",
    "\n",
    "initial_infection_rate = 0.01\n",
    "beta_0      = tf.convert_to_tensor( [-np.log((1/initial_infection_rate)-1), +0], dtype = tf.float32 )\n",
    "beta_lambda = tf.convert_to_tensor( [-1,           +2],      dtype = tf.float32 )  \n",
    "beta_gamma  = tf.convert_to_tensor( [-1,           -1],      dtype = tf.float32 )  \n",
    "epsilon     = tf.convert_to_tensor( [epsilon_list[e]],                  dtype = tf.float32 )  \n",
    "\n",
    "parameters_0 = tuple([beta_0])\n",
    "\n",
    "q_0      = tf.convert_to_tensor([0.0, 0.0], dtype = tf.float32)   \n",
    "q_static = tf.convert_to_tensor(q_list[qi], dtype = tf.float32)\n",
    "\n",
    "q_0_expanded      = tf.expand_dims(tf.expand_dims(q_0, axis = 0), axis = 0)\n",
    "q_static_expanded = tf.expand_dims(tf.expand_dims(q_static, axis = 0), axis = 0)\n",
    "\n",
    "parameters_emission = tuple([q_static])\n",
    "\n",
    "parameters_kernel = beta_lambda, beta_gamma, epsilon\n",
    "q_dynamic = tf.concat((q_0_expanded*tf.ones((1, N, M)), q_static_expanded*tf.ones((T, N, M))), axis =0)\n",
    "\n",
    "x, y = sim(model, parameters_0, parameters_kernel, q_dynamic, T, seed_filter[0])\n",
    "\n",
    "simulation_likelihood_model = simulation_likelihood(parallel_simulations, N, input_0, input_kernel, \n",
    "\t\t\t\t\t\tSIS_initial_grad, SIS_transition_grad, SIS_emission_grad)\n",
    "\n",
    "loglike_simba = []\n",
    "loglike_condsimba = []\n",
    "\n",
    "filter_performance_simba = []\n",
    "filter_performance_condsimba = []\n",
    "\n",
    "for i in range(100):\n",
    "\tseed_filter_split = tfp.random.split_seed( seed_filter[i], n=2, salt='filter_split')\n",
    "\n",
    "\tout_simba     = run_simba_full(       simulation_likelihood_model, parameters_0, parameters_kernel, parameters_emission, y, seed_filter_split[0])\n",
    "\tout_condsimba = run_simba_full_filter(simulation_likelihood_model, parameters_0, parameters_kernel, parameters_emission, y, seed_filter_split[1])\n",
    "\n",
    "\tfilter_simba     = tf.reduce_mean(out_simba[0], axis = 1)\n",
    "\tfilter_condsimba = tf.reduce_mean(out_condsimba[0], axis = 1)\n",
    "\n",
    "\tloglike_simba.append(tf.reduce_sum(out_simba[1]))\n",
    "\tloglike_condsimba.append(tf.reduce_sum(out_condsimba[1]))\n",
    "\n",
    "\tfilter_performance_simba.append(tf.reduce_mean(tf.reduce_mean(tf.reduce_sum(x[1:,:,:]*filter_simba, axis = -1), axis =-1)))\n",
    "\tfilter_performance_condsimba.append(tf.reduce_mean(tf.reduce_mean(tf.reduce_sum(x[1:,:,:]*filter_condsimba, axis = -1), axis =-1)))\n",
    "\n",
    "loglike_simba = np.stack(loglike_simba)\n",
    "loglike_condsimba = np.stack(loglike_condsimba)\n",
    "\n",
    "filter_performance_simba =np.stack(filter_performance_simba)\n",
    "filter_performance_condsimba =np.stack(filter_performance_condsimba)"
   ]
  },
  {
   "cell_type": "code",
   "execution_count": 11,
   "metadata": {},
   "outputs": [],
   "source": [
    "loglike_simba_list[1] = loglike_simba\n",
    "loglike_condsimba_list[1] = loglike_condsimba\n",
    "\n",
    "filter_performance_simba_list[1] = filter_performance_simba\n",
    "filter_performance_condsimba_list[1] = filter_performance_condsimba"
   ]
  },
  {
   "cell_type": "code",
   "execution_count": 19,
   "metadata": {},
   "outputs": [
    {
     "name": "stdout",
     "output_type": "stream",
     "text": [
      "\\begin{tabular}{lrllll}\n",
      "\\hline\n",
      " Simba-CL      &   $N$ & $\\epsilon$   & $q$    & log-likelihood     & filtering performance   \\\\\n",
      "\\hline\n",
      " Unconditional &   100 & low          & low    & -5131.96(2.6794)   & 0.84(0.0005827)         \\\\\n",
      " Conditional   &   100 & low          & low    & -5100.07(0.0432)   & 0.83(6.01e-05)          \\\\\n",
      " Unconditional &   100 & low          & medium & -6785.45(3.4968)   & 0.97(0.0018434)         \\\\\n",
      " Conditional   &   100 & low          & medium & -6738.07(0.0425)   & 1.0(6.9e-06)            \\\\\n",
      " Unconditional &   100 & low          & high   & -3340.12(3.4506)   & 1.0(0.00021)            \\\\\n",
      " Conditional   &   100 & low          & high   & -3295.73(0.0156)   & 1.0(3e-07)              \\\\\n",
      " Unconditional &   100 & medium       & low    & -5179.42(1.8061)   & 0.85(0.0010506)         \\\\\n",
      " Conditional   &   100 & medium       & low    & -5143.67(0.2772)   & 0.87(0.0002244)         \\\\\n",
      " Unconditional &   100 & medium       & medium & -8313.9(2.3432)    & 0.91(0.0001687)         \\\\\n",
      " Conditional   &   100 & medium       & medium & -8276.77(0.0822)   & 0.91(6.2e-06)           \\\\\n",
      " Unconditional &   100 & medium       & high   & -5117.49(4.3901)   & 0.99(8.89e-05)          \\\\\n",
      " Conditional   &   100 & medium       & high   & -5013.39(0.0461)   & 0.99(5e-07)             \\\\\n",
      " Unconditional &   100 & high         & low    & -4913.78(0.0408)   & 0.76(2.04e-05)          \\\\\n",
      " Conditional   &   100 & high         & low    & -4913.82(0.0245)   & 0.76(9e-06)             \\\\\n",
      " Unconditional &   100 & high         & medium & -8461.96(0.1054)   & 0.89(2.59e-05)          \\\\\n",
      " Conditional   &   100 & high         & medium & -8462.15(0.0443)   & 0.89(5.8e-06)           \\\\\n",
      " Unconditional &   100 & high         & high   & -6001.89(0.1919)   & 0.98(4.7e-06)           \\\\\n",
      " Conditional   &   100 & high         & high   & -5997.51(0.024)    & 0.98(5e-07)             \\\\\n",
      " Unconditional &  1000 & low          & low    & -50951.32(1.1928)  & 0.82(0.0001415)         \\\\\n",
      " Conditional   &  1000 & low          & low    & -50947.66(0.0539)  & 0.82(2.23e-05)          \\\\\n",
      " Unconditional &  1000 & low          & medium & -82876.23(0.6251)  & 0.91(7.08e-05)          \\\\\n",
      " Conditional   &  1000 & low          & medium & -82876.2(0.0689)   & 0.91(2.9e-06)           \\\\\n",
      " Unconditional &  1000 & low          & high   & -53233.93(1.8217)  & 0.99(1.39e-05)          \\\\\n",
      " Conditional   &  1000 & low          & high   & -53204.11(0.0351)  & 0.99(2e-07)             \\\\\n",
      " Unconditional &  1000 & medium       & low    & -50693.04(1.0425)  & 0.8(7.96e-05)           \\\\\n",
      " Conditional   &  1000 & medium       & low    & -50681.28(0.064)   & 0.8(1.34e-05)           \\\\\n",
      " Unconditional &  1000 & medium       & medium & -81994.59(0.4083)  & 0.91(4.73e-05)          \\\\\n",
      " Conditional   &  1000 & medium       & medium & -81992.01(0.0737)  & 0.91(3e-06)             \\\\\n",
      " Unconditional &  1000 & medium       & high   & -55111.02(1.5721)  & 0.99(9.2e-06)           \\\\\n",
      " Conditional   &  1000 & medium       & high   & -55098.72(0.0323)  & 0.99(2e-07)             \\\\\n",
      " Unconditional &  1000 & high         & low    & -50277.48(0.0492)  & 0.77(7.6e-06)           \\\\\n",
      " Conditional   &  1000 & high         & low    & -50277.68(0.0271)  & 0.77(3.1e-06)           \\\\\n",
      " Unconditional &  1000 & high         & medium & -84675.37(0.0926)  & 0.89(4.8e-06)           \\\\\n",
      " Conditional   &  1000 & high         & medium & -84674.12(0.0404)  & 0.89(1.2e-06)           \\\\\n",
      " Unconditional &  1000 & high         & high   & -61529.04(0.3132)  & 0.98(1.5e-06)           \\\\\n",
      " Conditional   &  1000 & high         & high   & -61511.64(0.0268)  & 0.98(1e-07)             \\\\\n",
      " Unconditional &  2000 & low          & low    & -101230.21(1.987)  & 0.81(0.0001159)         \\\\\n",
      " Conditional   &  2000 & low          & low    & -101203.51(0.1243) & 0.81(2e-05)             \\\\\n",
      " Unconditional &  2000 & low          & medium & -163284.12(2.081)  & 0.91(3.94e-05)          \\\\\n",
      " Conditional   &  2000 & low          & medium & -163266.38(0.0707) & 0.91(2.1e-06)           \\\\\n",
      " Unconditional &  2000 & low          & high   & -110632.57(3.8001) & 0.99(5.5e-06)           \\\\\n",
      " Conditional   &  2000 & low          & high   & -110567.61(0.0306) & 0.99(1e-07)             \\\\\n",
      " Unconditional &  2000 & medium       & low    & -101850.23(0.3624) & 0.81(7.66e-05)          \\\\\n",
      " Conditional   &  2000 & medium       & low    & -101849.97(0.057)  & 0.82(1.44e-05)          \\\\\n",
      " Unconditional &  2000 & medium       & medium & -163018.38(0.1773) & 0.91(3.05e-05)          \\\\\n",
      " Conditional   &  2000 & medium       & medium & -163021.54(0.0658) & 0.91(2e-06)             \\\\\n",
      " Unconditional &  2000 & medium       & high   & -107468.3(7.3799)  & 0.99(7.3e-06)           \\\\\n",
      " Conditional   &  2000 & medium       & high   & -107230.03(0.0386) & 0.99(1e-07)             \\\\\n",
      " Unconditional &  2000 & high         & low    & -99940.46(0.0389)  & 0.76(5e-06)             \\\\\n",
      " Conditional   &  2000 & high         & low    & -99940.57(0.0199)  & 0.76(2.2e-06)           \\\\\n",
      " Unconditional &  2000 & high         & medium & -172386.18(0.1524) & 0.89(4.1e-06)           \\\\\n",
      " Conditional   &  2000 & high         & medium & -172383.19(0.0434) & 0.89(1e-06)             \\\\\n",
      " Unconditional &  2000 & high         & high   & -121700.89(0.124)  & 0.98(1e-06)             \\\\\n",
      " Conditional   &  2000 & high         & high   & -121698.41(0.02)   & 0.98(1e-07)             \\\\\n",
      "\\hline\n",
      "\\end{tabular}\n"
     ]
    }
   ],
   "source": [
    "from tabulate import tabulate\n",
    "\n",
    "N_list       = [100, 1000, 2000]\n",
    "epsilon_list = [\"low\", \"medium\", \"high\"] \n",
    "q_list       = [\"low\", \"medium\", \"high\"] \n",
    "\n",
    "table = []\n",
    "\n",
    "header = [\"Simba-CL\", r\"$N$\", r\"$\\epsilon$\", r\"$q$\", \"log-likelihood\", \"filtering performance\"]\n",
    "# table.append(header)\n",
    "\n",
    "index = 0\n",
    "for n in range(3):\n",
    "\n",
    "\tfor e in range(3):\n",
    "\n",
    "\t\tfor qi in range(3):\n",
    "\n",
    "\t\t\tloglike_mean_str =     str(np.round(np.nanmean(loglike_simba_list[index].astype(float)), 2))\n",
    "\t\t\tloglike_std_str  = \"(\"+str(np.round(np.nanstd(loglike_simba_list[index].astype(float)), 4))+\")\"\n",
    "\t\t\t\n",
    "\t\t\tfilter_mean_str =     str(np.round(np.nanmean(filter_performance_simba_list[index].astype(float)), 2))\n",
    "\t\t\tfilter_std_str  = \"(\"+str(np.round(np.nanstd(filter_performance_simba_list[index].astype(float)), 7))+\")\"\n",
    "\t\t\t\n",
    "\t\t\ttable_row_uncond = [\"Unconditional\", str(N_list[n]), str(epsilon_list[e]), str(q_list[qi]), loglike_mean_str+loglike_std_str, filter_mean_str+filter_std_str]\n",
    "\n",
    "\t\t\ttable.append(table_row_uncond)\n",
    "\n",
    "\t\t\tloglike_mean_str =     str(np.round(np.nanmean(loglike_condsimba_list[index].astype(float)), 2))\n",
    "\t\t\tloglike_std_str  = \"(\"+str(np.round(np.nanstd(loglike_condsimba_list[index].astype(float)), 4))+\")\"\n",
    "\t\t\t\n",
    "\t\t\tfilter_mean_str =     str(np.round(np.nanmean(filter_performance_condsimba_list[index].astype(float)), 2))\n",
    "\t\t\tfilter_std_str  = \"(\"+str(np.round(np.nanstd(filter_performance_condsimba_list[index].astype(float)), 7))+\")\"\n",
    "\t\t\t\n",
    "\t\t\ttable_row_cond = [\"Conditional\", str(N_list[n]), str(epsilon_list[e]), str(q_list[qi]), loglike_mean_str+loglike_std_str, filter_mean_str+filter_std_str]\n",
    "\t\t\ttable.append(table_row_cond)\n",
    "\t\t\t\n",
    "\t\t\tindex = index + 1\n",
    "\n",
    "# Creating and displaying the table\n",
    "print(tabulate(table, header, tablefmt=\"latex_raw\"))"
   ]
  },
  {
   "cell_type": "code",
   "execution_count": null,
   "metadata": {},
   "outputs": [],
   "source": []
  },
  {
   "cell_type": "code",
   "execution_count": null,
   "metadata": {},
   "outputs": [],
   "source": []
  },
  {
   "cell_type": "code",
   "execution_count": null,
   "metadata": {},
   "outputs": [],
   "source": []
  },
  {
   "cell_type": "code",
   "execution_count": null,
   "metadata": {},
   "outputs": [],
   "source": []
  },
  {
   "cell_type": "code",
   "execution_count": null,
   "metadata": {},
   "outputs": [],
   "source": []
  },
  {
   "cell_type": "code",
   "execution_count": null,
   "metadata": {},
   "outputs": [],
   "source": []
  },
  {
   "cell_type": "code",
   "execution_count": null,
   "metadata": {},
   "outputs": [],
   "source": []
  },
  {
   "cell_type": "code",
   "execution_count": 18,
   "metadata": {},
   "outputs": [
    {
     "data": {
      "text/plain": [
       "[<matplotlib.lines.Line2D at 0x7f5af446c910>]"
      ]
     },
     "execution_count": 18,
     "metadata": {},
     "output_type": "execute_result"
    },
    {
     "data": {
      "image/png": "[encoded data removed]",
      "text/plain": [
       "<Figure size 640x480 with 1 Axes>"
      ]
     },
     "metadata": {},
     "output_type": "display_data"
    }
   ],
   "source": [
    "filter_simba     = tf.reduce_mean(out[0], axis = 1)\n",
    "filter_condsimba = tf.reduce_mean(out_filter[0], axis = 1)\n",
    "\n",
    "time = np.linspace(1, T, T)\n",
    "plt.plot(time, tf.reduce_sum(x, axis =1)[1:, 1], color = \"red\")\n",
    "plt.plot(time, tf.reduce_sum(filter_simba, axis = 1)[:,1], color = \"orange\", alpha = 0.5)\n",
    "plt.plot(time, tf.reduce_sum(filter_condsimba, axis = 1)[:,1], color = \"pink\", alpha = 0.5)"
   ]
  }
 ],
 "metadata": {
  "kernelspec": {
   "display_name": "tfwsl",
   "language": "python",
   "name": "python3"
  },
  "language_info": {
   "codemirror_mode": {
    "name": "ipython",
    "version": 3
   },
   "file_extension": ".py",
   "mimetype": "text/x-python",
   "name": "python",
   "nbconvert_exporter": "python",
   "pygments_lexer": "ipython3",
   "version": "3.11.8"
  }
 },
 "nbformat": 4,
 "nbformat_minor": 2
}
